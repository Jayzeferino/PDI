{
  "nbformat": 4,
  "nbformat_minor": 0,
  "metadata": {
    "colab": {
      "provenance": [],
      "authorship_tag": "ABX9TyPXJoigWtedKAKNEM3/o9HN",
      "include_colab_link": true
    },
    "kernelspec": {
      "name": "python3",
      "display_name": "Python 3"
    },
    "language_info": {
      "name": "python"
    }
  },
  "cells": [
    {
      "cell_type": "markdown",
      "metadata": {
        "id": "view-in-github",
        "colab_type": "text"
      },
      "source": [
        "<a href=\"https://colab.research.google.com/github/Jayzeferino/PDI/blob/main/TRabalhoPDI.ipynb\" target=\"_parent\"><img src=\"https://colab.research.google.com/assets/colab-badge.svg\" alt=\"Open In Colab\"/></a>"
      ]
    },
    {
      "cell_type": "code",
      "execution_count": null,
      "metadata": {
        "colab": {
          "base_uri": "https://localhost:8080/"
        },
        "id": "cr3pfz2p5SkE",
        "outputId": "c9a6e276-066b-4a18-92ef-273cb26c92c6"
      },
      "outputs": [
        {
          "output_type": "execute_result",
          "data": {
            "text/plain": [
              "True"
            ]
          },
          "metadata": {},
          "execution_count": 2
        }
      ],
      "source": [
        "import numpy as np\n",
        "from skimage import io\n",
        "from skimage.color import rgb2gray\n",
        "from skimage.util import img_as_ubyte\n",
        "import math\n",
        "from skimage.draw import disk\n",
        "\n",
        "def butterworth(shape,d0,n):\n",
        "  H=np.zeros(shape)\n",
        "  for u in range(shape[0]):\n",
        "    for v in range(shape[1]):\n",
        "      D_uv=np.sqrt( (u-shape[0]/2)**2 + (v-shape[1]/2)**2 )\n",
        "      H[u,v] = 1/ (1+ (D_uv/d0 )**(2*n))\n",
        "  return H\n",
        "\n",
        "img= io.imread('moon.png',as_gray=True)\n",
        "f=np.fft.fft2(img)\n",
        "f_s=np.fft.fftshift(f)\n",
        "\n",
        "\n",
        "#Apenas para exibir\n",
        "temp= np.log(abs(f_s))\n",
        "io.imshow(temp, cmap=\"gray\")\n",
        "\n",
        "# #ideal passa baixa\n",
        "# mask = np.zeros(img.shape,dtype=np.ubyte)\n",
        "# rr,cc=disk((img.shape[0]/2,img.shape[1]/2),30,shape=img.shape)\n",
        "# mask[rr,cc]=255\n",
        "# filtered=f_s*temp\n",
        "# filtered_unshift= np.fft.ifftshift(filtered)\n",
        "# space_f= np.abs(np.fft.ifft2(filtered_unshift))\n",
        "# io.imshow(temp, cmap=\"gray\")\n",
        "\n",
        "\n",
        "\n",
        "\n",
        "\n"
      ]
    }
  ]
}